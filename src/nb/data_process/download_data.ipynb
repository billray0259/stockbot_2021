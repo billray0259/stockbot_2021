{
 "cells": [
  {
   "cell_type": "code",
   "execution_count": 3,
   "source": [
    "import os\n",
    "\n",
    "if \"src\" not in os.listdir():\n",
    "    os.chdir(\"../../../\")\n",
    "\n",
    "from datetime import datetime, timezone, timedelta\n",
    "\n",
    "from src.lib.alpaca_historical import AlpacaData\n",
    "from src.lib.util import makedir_to"
   ],
   "outputs": [],
   "metadata": {}
  },
  {
   "cell_type": "code",
   "execution_count": 9,
   "source": [
    "KEYS_PATH = \"alpaca_config.json\" # Path to Alpaca Keys in user system\n",
    "log_outputs = True # Do you want to output a progress percent for getting the data?\n",
    "symbols = [\"SPY\", \"SPXS\"] # What tickers do we want\n",
    "end = datetime.now(timezone.utc)\n",
    "start = end - timedelta(days=365*5)\n",
    "timeframe = \"1Min\" # Timeframe to aggragate bars possible options are 1Min, 1Hour, 1Day\n",
    "\n",
    "data_dir = \"data\"\n",
    "\n",
    "alpaca = AlpacaData(KEYS_PATH)\n",
    "\n",
    "for symbol in symbols:\n",
    "    print(\"Fetching ticker %s\" % symbol)\n",
    "    data = alpaca.get_bars(symbol, start, end, log_outputs, timeframe)\n",
    "    save_path = os.path.join(data_dir, symbol, \"%s_%s.csv\" % (symbol, timeframe))\n",
    "    makedir_to(save_path)\n",
    "    data.to_csv(save_path)"
   ],
   "outputs": [
    {
     "output_type": "stream",
     "name": "stdout",
     "text": [
      "Fetching ticker SPY\n"
     ]
    },
    {
     "output_type": "stream",
     "name": "stderr",
     "text": [
      "2021-09-21 16:23:00+00:00: 100%|██████████| 100.0/100 [01:12<00:00,  1.38it/s]\n"
     ]
    },
    {
     "output_type": "stream",
     "name": "stdout",
     "text": [
      "Fetching ticker SPXS\n"
     ]
    },
    {
     "output_type": "stream",
     "name": "stderr",
     "text": [
      "2021-09-21 16:23:00+00:00: 100%|██████████| 100.0/100 [00:45<00:00,  2.20it/s]\n"
     ]
    }
   ],
   "metadata": {}
  }
 ],
 "metadata": {
  "orig_nbformat": 4,
  "language_info": {
   "name": "python",
   "version": "3.9.6",
   "mimetype": "text/x-python",
   "codemirror_mode": {
    "name": "ipython",
    "version": 3
   },
   "pygments_lexer": "ipython3",
   "nbconvert_exporter": "python",
   "file_extension": ".py"
  },
  "kernelspec": {
   "name": "python3",
   "display_name": "Python 3.9.6 64-bit"
  },
  "interpreter": {
   "hash": "aee8b7b246df8f9039afb4144a1f6fd8d2ca17a180786b69acc140d282b71a49"
  }
 },
 "nbformat": 4,
 "nbformat_minor": 2
}