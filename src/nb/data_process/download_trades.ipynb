{
 "cells": [
  {
   "cell_type": "code",
   "execution_count": 4,
   "source": [
    "import os\r\n",
    "\r\n",
    "if \"src\" not in os.listdir():\r\n",
    "    os.chdir(\"../../../\")\r\n",
    "\r\n",
    "from datetime import datetime, timezone, timedelta\r\n",
    "\r\n",
    "from src.lib.alpaca_historical import AlpacaData\r\n",
    "from src.lib.util import makedir_to"
   ],
   "outputs": [],
   "metadata": {}
  },
  {
   "cell_type": "code",
   "execution_count": 7,
   "source": [
    "KEYS_PATH = \"alpaca_config.json\" # Path to Alpaca Keys in user system\r\n",
    "log_outputs = True # Do you want to output a progress percent for getting the data?\r\n",
    "symbols = [\"SPY\"] # What tickers do we want\r\n",
    "end = datetime.now(timezone.utc)\r\n",
    "# start = end - timedelta(days=365*5)\r\n",
    "start = end - timedelta(days=2)\r\n",
    "# timeframe = \"1Min\" # Timeframe to aggragate bars possible options are 1Min, 1Hour, 1Day\r\n",
    "\r\n",
    "data_dir = \"data\"\r\n",
    "\r\n",
    "alpaca = AlpacaData(KEYS_PATH)\r\n",
    "print(datetime.now())\r\n",
    "for symbol in symbols:\r\n",
    "    print(\"Fetching ticker %s\" % symbol)\r\n",
    "    data = alpaca.get_trades(symbol, start, end, log_outputs)\r\n",
    "    save_path = os.path.join(data_dir, symbol, \"%s_%s.csv\" % (symbol, \"trades\"))\r\n",
    "    makedir_to(save_path)\r\n",
    "    data.to_csv(save_path)\r\n",
    "print(datetime.now())"
   ],
   "outputs": [
    {
     "output_type": "stream",
     "name": "stderr",
     "text": [
      "  0%|          | 0/100 [00:00<?, ?it/s]"
     ]
    },
    {
     "output_type": "stream",
     "name": "stdout",
     "text": [
      "2021-09-26 12:05:42.876328\n",
      "Fetching ticker SPY\n"
     ]
    },
    {
     "output_type": "stream",
     "name": "stderr",
     "text": [
      "2021-09-25 00:00:00.000370+00:00:  12%|█▏        | 12.3/100 [00:19<02:20,  1.61s/it]\n"
     ]
    },
    {
     "output_type": "stream",
     "name": "stdout",
     "text": [
      "2021-09-26 12:06:03.674907\n"
     ]
    }
   ],
   "metadata": {}
  },
  {
   "cell_type": "code",
   "execution_count": null,
   "source": [],
   "outputs": [],
   "metadata": {}
  }
 ],
 "metadata": {
  "orig_nbformat": 4,
  "language_info": {
   "name": "python",
   "version": "3.8.5",
   "mimetype": "text/x-python",
   "codemirror_mode": {
    "name": "ipython",
    "version": 3
   },
   "pygments_lexer": "ipython3",
   "nbconvert_exporter": "python",
   "file_extension": ".py"
  },
  "kernelspec": {
   "name": "python3",
   "display_name": "Python 3.8.5 64-bit"
  },
  "interpreter": {
   "hash": "df32ccc5ca0a834e46655e033e923466181170f9f055e035850f144ef7ac8ef0"
  }
 },
 "nbformat": 4,
 "nbformat_minor": 2
}