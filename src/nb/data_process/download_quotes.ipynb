{
 "cells": [
  {
   "cell_type": "code",
   "execution_count": 5,
   "source": [
    "import os\n",
    "\n",
    "if \"src\" not in os.listdir():\n",
    "    os.chdir(\"../../../\")\n",
    "\n",
    "from datetime import datetime, timezone, timedelta\n",
    "import pandas_market_calendars as mcal\n",
    "from tqdm import tqdm\n",
    "\n",
    "from src.lib.alpaca_historical import AlpacaData\n",
    "from src.lib.util import makedir_to"
   ],
   "outputs": [],
   "metadata": {}
  },
  {
   "cell_type": "code",
   "execution_count": 14,
   "source": [
    "KEYS_PATH = \"alpaca_config.json\" # Path to Alpaca Keys in user system\n",
    "symbols = [\"SPY\", \"SPXS\"] # What tickers do we want\n",
    "end = datetime.now(timezone.utc)\n",
    "start = end - timedelta(minutes=10)\n",
    "\n",
    "offset = timedelta(seconds=4)\n",
    "width = timedelta(seconds=0.1)\n",
    "\n",
    "nyse = mcal.get_calendar(\"NYSE\")\n",
    "\n",
    "schedule = nyse.schedule(start_date=start, end_date=end)\n",
    "valid_minutes = mcal.date_range(schedule, frequency=\"1T\")   "
   ],
   "outputs": [],
   "metadata": {}
  },
  {
   "cell_type": "code",
   "execution_count": 15,
   "source": [
    "data_dir = \"data\"\n",
    "\n",
    "alpaca = AlpacaData(KEYS_PATH)\n",
    "\n",
    "for symbol in symbols:\n",
    "    df = None\n",
    "    pbar = tqdm(valid_minutes)\n",
    "    for minute in pbar:\n",
    "        data = alpaca.get_quotes(symbol, minute + offset - width/2, minute + offset + width/2, False)\n",
    "        if df is None:\n",
    "            df = data\n",
    "        else:\n",
    "            df = df.append(data)\n",
    "        \n",
    "        time_str = df.index[-1].strftime(\"%y-%m-%d %H:%M:%S\")\n",
    "        pbar.set_description(f\"{time_str} - {len(df)}\")\n",
    "        \n",
    "    save_path = os.path.join(data_dir, symbol, \"%s_%s.csv\" % (symbol, \"small_quotes\"))\n",
    "    makedir_to(save_path)\n",
    "    df.to_csv(save_path)"
   ],
   "outputs": [
    {
     "output_type": "stream",
     "name": "stderr",
     "text": [
      "21-09-24 17:41:04 - 7291: 100%|██████████| 390/390 [00:45<00:00,  8.54it/s]\n",
      "21-09-24 17:38:04 - 536: 100%|██████████| 390/390 [00:41<00:00,  9.40it/s]\n"
     ]
    }
   ],
   "metadata": {}
  }
 ],
 "metadata": {
  "orig_nbformat": 4,
  "language_info": {
   "name": "python",
   "version": "3.8.10",
   "mimetype": "text/x-python",
   "codemirror_mode": {
    "name": "ipython",
    "version": 3
   },
   "pygments_lexer": "ipython3",
   "nbconvert_exporter": "python",
   "file_extension": ".py"
  },
  "kernelspec": {
   "name": "python3",
   "display_name": "Python 3.8.10 64-bit ('tf_arm': conda)"
  },
  "interpreter": {
   "hash": "aad12466045a1575aa1be41a0534cd7508fda1531bcc5a3693dc9ed3be064607"
  }
 },
 "nbformat": 4,
 "nbformat_minor": 2
}