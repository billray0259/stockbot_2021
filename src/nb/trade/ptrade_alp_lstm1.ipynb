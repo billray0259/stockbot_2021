{
 "cells": [
  {
   "cell_type": "code",
   "execution_count": 6,
   "source": [
    "\"\"\" Alpaca Paper Trade with the 1st LSTM \"\"\"\n",
    "\n",
    "import os\n",
    "\n",
    "if \"src\" not in os.listdir():\n",
    "    os.chdir(\"../../../\")\n",
    "\n",
    "import json\n",
    "\n",
    "import time\n",
    "import numpy as np\n",
    "from datetime import datetime, timedelta\n",
    "from pytz import timezone\n",
    "import pickle\n",
    "\n",
    "import pandas_market_calendars as mcal\n",
    "from keras.models import load_model\n",
    "\n",
    "from src.lib.alpaca_historical import AlpacaData\n",
    "from src.lib.alpaca_paper import AlpacaTrader\n",
    "from src.lib.activations import negative_softmax\n",
    "from src.lib.price_history import transform_price_history, PriceHistory\n",
    "from src.lib.stock_dataset import StockDataset"
   ],
   "outputs": [],
   "metadata": {}
  },
  {
   "cell_type": "code",
   "execution_count": 7,
   "source": [
    "path = \"results/1_lstm_msla/\"\n",
    "keys = \"alpaca_config.json\"\n",
    "isPaper = True"
   ],
   "outputs": [],
   "metadata": {}
  },
  {
   "cell_type": "code",
   "execution_count": 8,
   "source": [
    "def now_utc():\n",
    "    return datetime.now().astimezone(tz=timezone(\"UTC\"))\n",
    "\n",
    "\n",
    "def get_next_trading_minute():\n",
    "    nyse = mcal.get_calendar(\"NYSE\")\n",
    "    now = now_utc()\n",
    "    lookahead = timedelta(days=0)\n",
    "    while True:\n",
    "        lookahead += timedelta(hours=1)\n",
    "        schedule = nyse.schedule(start_date=now, end_date=now + lookahead)\n",
    "        valid_minutes = mcal.date_range(schedule, frequency=\"1T\")\n",
    "        where_future = np.where(valid_minutes > now)[0]\n",
    "        if len(where_future) > 0:\n",
    "            break\n",
    "\n",
    "    # return valid_minutes[where_future[0]]\n",
    "    return (now + timedelta(minutes=1)).replace(second=0)"
   ],
   "outputs": [],
   "metadata": {}
  },
  {
   "cell_type": "code",
   "execution_count": 9,
   "source": [
    "api_data = AlpacaData(keys)\n",
    "api_trade = AlpacaTrader(keys, isPaper)\n",
    "model = load_model(\n",
    "    os.path.join(path, \"model.h5\"),\n",
    "    custom_objects={\n",
    "        \"negative_softmax\": negative_softmax\n",
    "    }\n",
    ")\n",
    "\n",
    "with open(os.path.join(path, \"config.json\"), \"r\") as f:\n",
    "    config = json.load(f)\n",
    "\n",
    "n_time_steps = config[\"n_time_steps\"]\n",
    "symbols = config[\"symbols\"]\n",
    "target_column = config[\"target_column\"]\n",
    "\n",
    "with open(os.path.join(path, \"scaler.pkl\"), \"rb\") as f:\n",
    "    scaler = pickle.load(f)"
   ],
   "outputs": [],
   "metadata": {}
  },
  {
   "cell_type": "code",
   "execution_count": 10,
   "source": [
    "def trade_loop():\n",
    "    # Sleep until next trading time\n",
    "    next_trade_time = get_next_trading_minute()\n",
    "    sleep_seconds = (next_trade_time - now_utc()).total_seconds() + 1\n",
    "    print(\"Sleeping for %.2f\" % sleep_seconds)\n",
    "    time.sleep(sleep_seconds)\n",
    "\n",
    "    # Get the last 64 candles\n",
    "    data_start_time = next_trade_time - timedelta(minutes=n_time_steps + 1 + 200) \n",
    "    price_histories = []\n",
    "    for symbol in symbols:\n",
    "        history = api_data.get_bars(symbol, data_start_time, next_trade_time, log=False)\n",
    "        if type(history) is str:\n",
    "            print(history)\n",
    "        price_history = PriceHistory(history, symbol)\n",
    "        # TODO accept **kwargs here\n",
    "        price_history = transform_price_history(price_history)\n",
    "        price_histories.append(price_history)\n",
    "    \n",
    "    # Process the candes\n",
    "    dataset = StockDataset(price_histories, target_column, n_time_steps)\n",
    "    dataset.apply_standard_scaler(scaler)\n",
    "    X = dataset.prediction_X(n_time_steps)\n",
    "    \n",
    "    # Model makes predictions\n",
    "    preds = model.predict(X)[0]\n",
    "    next_holdings = dict(zip(symbols, preds))\n",
    "    print(\"Desired holdings\", next_holdings)\n",
    "    print(api_trade.update_holdings(next_holdings, verbose=True))\n",
    "\n",
    "while True:\n",
    "    trade_loop()"
   ],
   "outputs": [
    {
     "output_type": "stream",
     "name": "stdout",
     "text": [
      "Sleeping for 30.82\n",
      "{'start': '2021-09-17T18:10:00.531467+00:00', 'end': '2021-09-17T20:15:00.531467+00:00', 'limit': 10000, 'timeframe': '1Min'}\n",
      "{'start': '2021-09-17T18:10:00.531467+00:00', 'end': '2021-09-17T20:15:00.531467+00:00', 'limit': 10000, 'timeframe': '1Min'}\n"
     ]
    },
    {
     "output_type": "stream",
     "name": "stderr",
     "text": [
      "2021-09-17 16:15:02.125749: I tensorflow/compiler/mlir/mlir_graph_optimization_pass.cc:116] None of the MLIR optimization passes are enabled (registered 2)\n",
      "2021-09-17 16:15:02.127545: W tensorflow/core/platform/profile_utils/cpu_utils.cc:126] Failed to get CPU frequency: 0 Hz\n"
     ]
    },
    {
     "output_type": "stream",
     "name": "stdout",
     "text": [
      "Desired holdings {'SPY': 0.22454128, 'SPXS': -0.7161109}\n",
      "https://data.alpaca.markets/v2/stocks/SPY/snapshot\n",
      "buy SPY 51\n",
      "https://data.alpaca.markets/v2/stocks/SPXS/snapshot\n",
      "sell SPXS 3323\n",
      "[<Response [200]>, <Response [200]>]\n",
      "Sleeping for 56.86\n"
     ]
    },
    {
     "output_type": "error",
     "ename": "KeyboardInterrupt",
     "evalue": "",
     "traceback": [
      "\u001b[0;31m---------------------------------------------------------------------------\u001b[0m",
      "\u001b[0;31mKeyboardInterrupt\u001b[0m                         Traceback (most recent call last)",
      "\u001b[0;32m/var/folders/z3/f6ggp7nd0p97xcdwc5b5mcd80000gn/T/ipykernel_13745/109982253.py\u001b[0m in \u001b[0;36m<module>\u001b[0;34m\u001b[0m\n\u001b[1;32m     30\u001b[0m \u001b[0;34m\u001b[0m\u001b[0m\n\u001b[1;32m     31\u001b[0m \u001b[0;32mwhile\u001b[0m \u001b[0;32mTrue\u001b[0m\u001b[0;34m:\u001b[0m\u001b[0;34m\u001b[0m\u001b[0;34m\u001b[0m\u001b[0m\n\u001b[0;32m---> 32\u001b[0;31m     \u001b[0mtrade_loop\u001b[0m\u001b[0;34m(\u001b[0m\u001b[0;34m)\u001b[0m\u001b[0;34m\u001b[0m\u001b[0;34m\u001b[0m\u001b[0m\n\u001b[0m",
      "\u001b[0;32m/var/folders/z3/f6ggp7nd0p97xcdwc5b5mcd80000gn/T/ipykernel_13745/109982253.py\u001b[0m in \u001b[0;36mtrade_loop\u001b[0;34m()\u001b[0m\n\u001b[1;32m      4\u001b[0m     \u001b[0msleep_seconds\u001b[0m \u001b[0;34m=\u001b[0m \u001b[0;34m(\u001b[0m\u001b[0mnext_trade_time\u001b[0m \u001b[0;34m-\u001b[0m \u001b[0mnow_utc\u001b[0m\u001b[0;34m(\u001b[0m\u001b[0;34m)\u001b[0m\u001b[0;34m)\u001b[0m\u001b[0;34m.\u001b[0m\u001b[0mtotal_seconds\u001b[0m\u001b[0;34m(\u001b[0m\u001b[0;34m)\u001b[0m \u001b[0;34m+\u001b[0m \u001b[0;36m1\u001b[0m\u001b[0;34m\u001b[0m\u001b[0;34m\u001b[0m\u001b[0m\n\u001b[1;32m      5\u001b[0m     \u001b[0mprint\u001b[0m\u001b[0;34m(\u001b[0m\u001b[0;34m\"Sleeping for %.2f\"\u001b[0m \u001b[0;34m%\u001b[0m \u001b[0msleep_seconds\u001b[0m\u001b[0;34m)\u001b[0m\u001b[0;34m\u001b[0m\u001b[0;34m\u001b[0m\u001b[0m\n\u001b[0;32m----> 6\u001b[0;31m     \u001b[0mtime\u001b[0m\u001b[0;34m.\u001b[0m\u001b[0msleep\u001b[0m\u001b[0;34m(\u001b[0m\u001b[0msleep_seconds\u001b[0m\u001b[0;34m)\u001b[0m\u001b[0;34m\u001b[0m\u001b[0;34m\u001b[0m\u001b[0m\n\u001b[0m\u001b[1;32m      7\u001b[0m \u001b[0;34m\u001b[0m\u001b[0m\n\u001b[1;32m      8\u001b[0m     \u001b[0;31m# Get the last 64 candles\u001b[0m\u001b[0;34m\u001b[0m\u001b[0;34m\u001b[0m\u001b[0;34m\u001b[0m\u001b[0m\n",
      "\u001b[0;31mKeyboardInterrupt\u001b[0m: "
     ]
    }
   ],
   "metadata": {}
  }
 ],
 "metadata": {
  "orig_nbformat": 4,
  "language_info": {
   "name": "python",
   "version": "3.8.10",
   "mimetype": "text/x-python",
   "codemirror_mode": {
    "name": "ipython",
    "version": 3
   },
   "pygments_lexer": "ipython3",
   "nbconvert_exporter": "python",
   "file_extension": ".py"
  },
  "kernelspec": {
   "name": "python3",
   "display_name": "Python 3.8.10 64-bit ('tf_arm': conda)"
  },
  "interpreter": {
   "hash": "aad12466045a1575aa1be41a0534cd7508fda1531bcc5a3693dc9ed3be064607"
  }
 },
 "nbformat": 4,
 "nbformat_minor": 2
}