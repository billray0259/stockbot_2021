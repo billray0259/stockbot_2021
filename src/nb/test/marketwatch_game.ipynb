{
 "cells": [
  {
   "cell_type": "code",
   "execution_count": 2,
   "source": [
    "import requests"
   ],
   "outputs": [],
   "metadata": {}
  },
  {
   "cell_type": "code",
   "execution_count": 4,
   "source": [
    "domain = \"www.marketwatch.com\"\n",
    "path = \"/game/stockbot2021/trade/submitorder\"\n",
    "cookie = \"\"\"refresh=off; letsGetMikey=enabled; _sp_enable_dfp_personalized_ads=false; refresh=off; letsGetMikey=enabled; _sp_enable_dfp_personalized_ads=false; mw_loc={\"Region\":\"MA\",\"Country\":\"US\",\"Continent\":\"NA\",\"ApplicablePrivacy\":0}; gdprApplies=false; ab_uuid=1e42f48f-3633-4d5e-8361-720a0dc88736; icons-loaded=true; letsGetMikey=enabled; _sp_enable_dfp_personalized_ads=false; AMCVS_CB68E4BA55144CAA0A4C98A5@AdobeOrg=1; s_cc=true; _fbp=fb.1.1631570539621.250226317; DJSESSION=country=us||continent=na||region=ma||city=needham||latitude=42.2750||longitude=-71.2465||timezone=est||zip=02492; wsjregion=na,us; ccpaApplies=false; usr_bkt=2qgQ1WCa3A; usr_prof_v2=eyJpYyI6MX0=; djcs_route=b1a65e16-5f55-41e9-ab78-4a0d04fdbc0b; djcs_secid=ZjZkMWYyYTYtMzE0YS00NmQwLWE0N2UtMzVjNGE3OWIyYmUz.aAYU3BH5yPaRAQVqbhFCBf4SRBCb9vdByrzHqSzuhnU; TR=V2-555dd76c5778a8bcfbdcb7c1ad60ed415dd0720b9cad1ebf7757fa5eadac17ff; djcs_auto=M1631567024/5mXo8MARqaEEM/M13yX2uBlg0B376LfXN5BDWtTAT/dw56jL/EuqUtmh8W85kMOXXM6pCVdtswuvsuRG/n5kGkHS467hhD1C33VgR0mdr+lr78T+aIab1X4GjOcvD6Lvfrl5/PxvlvJ0KOx8Zknr/Qvw5eouA9tLR7ckzS/Vt3w8El/8/DbC8v52jbx1W/2Qv+ue71OApbC7YPVb+QEB3K+ufpOJA/j2+7Az5wmMGmXuvu/sLkzcfPa+EQprcq7IO7kEaOq09PqoOx8bBqcY2J7M/DmoG4YihduIFIaublzMMKnmZiLDhwomJbyu+Lb77uvYofuB2BZIhN/JWzk376UI3lQ79gJ7hXM30t1NBYQvW52xIzV/6OZdDQVc/tCE9t+urnj55WxNNRIkxz/ikg==G; djcs_session=M1631565828/VULmu3H+YQhrk9nGOw6o/fyyCQwsu9x5s1JRLLiEc7tQVge+TcYAb2Kamb8SR8e1XkByNCo5b9nLqvX9nZn0XPiLpv5VypTFRAWr82Rn29ev1GL7h4YtnBhQZBLRUGVIy/QfCLyn4+V6qg9ATGGN/gFNkQb5hyMmKukuPINGhjT74dA7gbdXJncaONFGpnsq+dKNjPgH1Byh8JksmqpaMr97yNkJBaKxumRqVkNzrm1zFZ8FeBPo4tekHofHYKSssoJzNZTYkn5BphtfVvW3Hw3ylndPBh4/Vq5+JiuO/lmuJhkrz6B/N2SiMdTPrs7yHRyqj7xden8vZvBXZgLy2lUWw348b4xUTG/qzdvNtPjLk7kJWwzsCn8VCbCAUBHMPAxYe18JCL+kad1xpUQcgmmL+oIAHzoB2/e3EgnSlVpZB1Cv0oXPHuvpNTQlRm5Tl5g8XU0No11xi5l8LT4VpA==G; fullcss-section=section-b4a07de5f1.min.css; s_tp=2717; s_ppv=MW_Games_VSE,85,32,2318; kayla=g=24bbdc95c0914247994112de67313774; utag_main=v_id:017be12eb394000e53147322ca0404078002007000bd0$_sn:1$_ss:0$_st:1631572691271$ses_id:1631570539413;exp-session$_pn:7;exp-session$_prevpage:MW_Games_VSE;exp-1631574491274$vapi_domain:marketwatch.com; s_sq=djglobal=%26c.%26a.%26activitymap.%26page%3DMW_Games_VSE%26link%3DCREATE%2520GAME%26region%3DBODY%26pageIDType%3D1%26.activitymap%26.a%26.c%26pid%3DMW_Games_VSE%26pidt%3D1%26oid%3DCREATE%2520GAME%26oidt%3D3%26ot%3DSUBMIT; AMCV_CB68E4BA55144CAA0A4C98A5@AdobeOrg=1585540135|MCIDTS|18884|MCMID|21719225487801348085720387684523316764|MCAID|NONE|MCOPTOUT-1631578109s|NONE|vVersion|4.4.0\"\"\"\n",
    "user_agent= \"Mozilla/5.0 (Macintosh; Intel Mac OS X 10_15_7) AppleWebKit/537.36 (KHTML, like Gecko) Chrome/93.0.4577.63 Safari/537.36\"\n"
   ],
   "outputs": [],
   "metadata": {}
  },
  {
   "cell_type": "code",
   "execution_count": 23,
   "source": [
    "payload = [{\"Fuid\":\"EXCHANGETRADEDFUND-ARCX-SPXS\",\"Shares\":\"1\",\"Type\":\"Buy\",\"Term\":\"Cancelled\"}]\n",
    "# [{\"Fuid\":\"EXCHANGETRADEDFUND-ARCX-SPXL\",\"Shares\":\"1\",\"Type\":\"Short\",\"Term\":\"Cancelled\"}]\n",
    "cookie_dict = {\n",
    "    \"djcs_session\": \"M1631565828%2FVULmu3H%2BYQhrk9nGOw6o%2FfyyCQwsu9x5s1JRLLiEc7tQVge%2BTcYAb2Kamb8SR8e1XkByNCo5b9nLqvX9nZn0XPiLpv5VypTFRAWr82Rn29ev1GL7h4YtnBhQZBLRUGVIy%2FQfCLyn4%2BV6qg9ATGGN%2FgFNkQb5hyMmKukuPINGhjT74dA7gbdXJncaONFGpnsq%2BdKNjPgH1Byh8JksmqpaMr97yNkJBaKxumRqVkNzrm1zFZ8FeBPo4tekHofHYKSssoJzNZTYkn5BphtfVvW3Hw3ylndPBh4%2FVq5%2BJiuO%2FlmuJhkrz6B%2FN2SiMdTPrs7yHRyqj7xden8vZvBXZgLy2lUWw348b4xUTG%2FqzdvNtPjLk7kJWwzsCn8VCbCAUBHMPAxYe18JCL%2Bkad1xpUQcgmmL%2BoIAHzoB2%2Fe3EgnSlVpZB1Cv0oXPHuvpNTQlRm5Tl5g8XU0No11xi5l8LT4VpA%3D%3DG\",\n",
    "}\n",
    "\n",
    "r = requests.post(\"http://\" + domain + path, headers={\"User-Agent\": user_agent}, cookies=cookie_dict, json=payload)\n",
    "r.text"
   ],
   "outputs": [
    {
     "output_type": "execute_result",
     "data": {
      "text/plain": [
       "'{\"succeeded\":true,\"message\":\"Your order was submitted successfully\"}'"
      ]
     },
     "metadata": {},
     "execution_count": 23
    }
   ],
   "metadata": {}
  }
 ],
 "metadata": {
  "orig_nbformat": 4,
  "language_info": {
   "name": "python",
   "version": "3.9.6",
   "mimetype": "text/x-python",
   "codemirror_mode": {
    "name": "ipython",
    "version": 3
   },
   "pygments_lexer": "ipython3",
   "nbconvert_exporter": "python",
   "file_extension": ".py"
  },
  "kernelspec": {
   "name": "python3",
   "display_name": "Python 3.9.6 64-bit"
  },
  "interpreter": {
   "hash": "aee8b7b246df8f9039afb4144a1f6fd8d2ca17a180786b69acc140d282b71a49"
  }
 },
 "nbformat": 4,
 "nbformat_minor": 2
}