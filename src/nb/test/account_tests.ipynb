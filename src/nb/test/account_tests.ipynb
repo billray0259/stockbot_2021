{
 "cells": [
  {
   "cell_type": "code",
   "execution_count": 19,
   "source": [
    "import os\n",
    "import datetime as dt\n",
    "import json \n",
    "import math\n",
    "\n",
    "if \"src\" not in os.listdir():\n",
    "    os.chdir(\"../../../\")\n",
    "\n",
    "\n",
    "%load_ext autoreload\n",
    "%autoreload 2\n",
    "\n",
    "from src.lib.alpaca_paper import AlpacaTrader\n",
    "from src.lib.alpaca_historical import AlpacaData"
   ],
   "outputs": [
    {
     "output_type": "stream",
     "name": "stdout",
     "text": [
      "The autoreload extension is already loaded. To reload it, use:\n",
      "  %reload_ext autoreload\n"
     ]
    }
   ],
   "metadata": {}
  },
  {
   "cell_type": "code",
   "execution_count": 57,
   "source": [
    "def update_holdings(alp_trader, desired_holdings):\n",
    "    # Get the total account equity\n",
    "    equity = float(alp_trader.get_account().json()[\"equity\"])\n",
    "    \n",
    "    # Get current account positions\n",
    "    positions = alp_trader.get_positions().json()\n",
    "\n",
    "    # Find the price of every relevant symbol\n",
    "    prices = {}\n",
    "    # All symbols currently being held\n",
    "    for position in positions:\n",
    "        prices[position[\"symbol\"]] = float(position[\"current_price\"])\n",
    "\n",
    "    # All desired symbols excluding already held symbols\n",
    "    for symbol in desired_holdings:\n",
    "        if symbol not in prices:\n",
    "            prices[symbol] = float(alp_trader.get_current_price(symbol).json()[\"latestTrade\"][\"p\"])\n",
    "    \n",
    "    # Find the current holdings as a percentage of account equity\n",
    "    current_holdings = {}\n",
    "    current_shares = {}\n",
    "    for position in positions:\n",
    "        symbol = position[\"symbol\"]\n",
    "        qty = float(position[\"qty\"])\n",
    "        current_shares[symbol] = qty\n",
    "        dollar_amount = qty * prices[symbol]\n",
    "        current_holdings[symbol] = dollar_amount / equity\n",
    "    \n",
    "    # Determine how much current_holdings needs to change to match desired holdings\n",
    "    delta_holdings = {}\n",
    "    all_symbols = set(list(current_holdings.keys()) + list(desired_holdings.keys()))\n",
    "\n",
    "    for symbol in all_symbols:\n",
    "        if symbol in current_holdings and symbol in desired_holdings:\n",
    "            delta_holdings[symbol] = desired_holdings[symbol] - current_holdings[symbol]\n",
    "\n",
    "        elif symbol in desired_holdings:\n",
    "            delta_holdings[symbol] = desired_holdings[symbol]\n",
    "\n",
    "        elif symbol in current_holdings:\n",
    "            delta_holdings[symbol] = -current_holdings[symbol]\n",
    "    \n",
    "    # Convert the percentages of total account equity to shares and place trades\n",
    "    for symbol, p_equity in delta_holdings.items():\n",
    "        if symbol in prices:\n",
    "            price = prices[symbol]\n",
    "        n_shares = int(p_equity * equity / price)\n",
    "\n",
    "        # If there is no need to trade anything we're done with this symbol\n",
    "        if n_shares == 0:\n",
    "            continue\n",
    "\n",
    "        n_held = current_shares[symbol] if symbol in current_holdings else 0\n",
    "            \n",
    "        # If n_shares is negative we sell otherwise we buy\n",
    "        side = \"sell\" if n_shares < 0 else \"buy\"\n",
    "        print(symbol)\n",
    "\n",
    "        # If we have a current holding and we are reducing our holding and that reduction is larger than our current holding\n",
    "        if n_held != 0 and ((n_shares < 0) != (n_held < 0)) and abs(n_shares) > abs(n_held):\n",
    "            # Close our current holding\n",
    "            alp_trader.place_market_order(symbol, abs(n_held), side)\n",
    "            # Open the remaining shares\n",
    "            if n_shares - n_held != 0:\n",
    "                alp_trader.place_market_order(symbol, abs(n_shares) - abs(n_held), side)\n",
    "        else:\n",
    "            # Otherwise just trade the shares\n",
    "            alp_trader.place_market_order(symbol, abs(n_shares), side)\n",
    "    "
   ],
   "outputs": [],
   "metadata": {}
  },
  {
   "cell_type": "code",
   "execution_count": 47,
   "source": [
    "KEYS_PATH = \"alpaca_config.json\" # Path to Alpaca Keys in user system\n",
    "alp_trader = AlpacaTrader(KEYS_PATH, is_paper=True)\n",
    "alp_data = AlpacaData(KEYS_PATH)"
   ],
   "outputs": [],
   "metadata": {}
  },
  {
   "cell_type": "code",
   "execution_count": 61,
   "source": [
    "update_holdings(alp_trader, {\n",
    "    \"SPY\": 0.2,\n",
    "    \"SPXS\": 0.3,\n",
    "    \"TSLA\": 0.5\n",
    "})"
   ],
   "outputs": [
    {
     "output_type": "stream",
     "name": "stdout",
     "text": [
      "SPXS\n"
     ]
    }
   ],
   "metadata": {}
  },
  {
   "cell_type": "code",
   "execution_count": 14,
   "source": [
    "desired_holdings = {\n",
    "    \"SPY\": -0.2,\n",
    "    \"SPXS\": 0.4\n",
    "}"
   ],
   "outputs": [],
   "metadata": {}
  },
  {
   "cell_type": "code",
   "execution_count": 11,
   "source": [
    "equity = float(alp_trader.get_account().json()[\"equity\"])"
   ],
   "outputs": [],
   "metadata": {}
  },
  {
   "cell_type": "code",
   "execution_count": 45,
   "source": [
    "positions = alp_trader.get_positions().json()\n",
    "positions"
   ],
   "outputs": [
    {
     "output_type": "execute_result",
     "data": {
      "text/plain": [
       "[{'asset_id': 'b28f4066-5c6d-479b-a2af-85dc1a8f16fb',\n",
       "  'symbol': 'SPY',\n",
       "  'exchange': 'ARCA',\n",
       "  'asset_class': 'us_equity',\n",
       "  'asset_marginable': True,\n",
       "  'qty': '-1',\n",
       "  'avg_entry_price': '434.33',\n",
       "  'side': 'short',\n",
       "  'market_value': '-434.43',\n",
       "  'cost_basis': '-434.33',\n",
       "  'unrealized_pl': '-0.1',\n",
       "  'unrealized_plpc': '-0.0002302396795064',\n",
       "  'unrealized_intraday_pl': '-0.1',\n",
       "  'unrealized_intraday_plpc': '-0.0002302396795064',\n",
       "  'current_price': '434.43',\n",
       "  'lastday_price': '434.04',\n",
       "  'change_today': '0.0008985346972629'}]"
      ]
     },
     "metadata": {},
     "execution_count": 45
    }
   ],
   "metadata": {}
  },
  {
   "cell_type": "code",
   "execution_count": 42,
   "source": [
    "prices = {}\n",
    "for position in positions:\n",
    "    prices[position[\"symbol\"]] = float(position[\"current_price\"])\n",
    "\n",
    "for symbol in desired_holdings:\n",
    "    if symbol not in prices:\n",
    "        prices[symbol] = float(alp_trader.get_current_price(symbol).json()[\"latestTrade\"][\"p\"])\n",
    "\n",
    "print(prices)"
   ],
   "outputs": [
    {
     "output_type": "stream",
     "name": "stdout",
     "text": [
      "{'SPY': 435.14, 'SPXL': 111.71, 'SPXS': 22.49}\n"
     ]
    }
   ],
   "metadata": {}
  },
  {
   "cell_type": "code",
   "execution_count": 44,
   "source": [
    "current_holdings = {}\n",
    "for position in positions:\n",
    "    symbol = position[\"symbol\"]\n",
    "    dollar_amount = float(position[\"qty\"]) * prices[symbol]\n",
    "    current_holdings[symbol] = dollar_amount / equity\n",
    "current_holdings"
   ],
   "outputs": [
    {
     "output_type": "execute_result",
     "data": {
      "text/plain": [
       "{'SPY': 0.044360839554935805, 'SPXL': 0.0011388402322659098}"
      ]
     },
     "metadata": {},
     "execution_count": 44
    }
   ],
   "metadata": {}
  },
  {
   "cell_type": "code",
   "execution_count": 18,
   "source": [
    "delta_holdings = {}\n",
    "all_symbols = set(list(current_holdings.keys()) + list(desired_holdings.keys()))\n",
    "\n",
    "for symbol in all_symbols:\n",
    "    if symbol in current_holdings and symbol in desired_holdings:\n",
    "        delta_holdings[symbol] = desired_holdings[symbol] - current_holdings[symbol]\n",
    "\n",
    "    elif symbol in desired_holdings:\n",
    "        delta_holdings[symbol] = desired_holdings[symbol]\n",
    "\n",
    "    elif symbol in current_holdings:\n",
    "        delta_holdings[symbol] = -current_holdings[symbol]\n",
    "delta_holdings"
   ],
   "outputs": [
    {
     "output_type": "stream",
     "name": "stdout",
     "text": [
      "{'SPY', 'SPXL', 'SPXS'}\n"
     ]
    },
    {
     "output_type": "execute_result",
     "data": {
      "text/plain": [
       "{'SPY': -0.24436083955493582, 'SPXL': -0.0011388402322659098, 'SPXS': 0.4}"
      ]
     },
     "metadata": {},
     "execution_count": 18
    }
   ],
   "metadata": {}
  },
  {
   "cell_type": "code",
   "execution_count": 40,
   "source": [
    "for symbol, p in delta_holdings.items():\n",
    "    if symbol in prices:\n",
    "        price = prices[symbol]\n",
    "    n_shares = int(p * equity / price)\n",
    "    print(symbol, n_shares)"
   ],
   "outputs": [
    {
     "output_type": "stream",
     "name": "stdout",
     "text": [
      "SPY -55\n",
      "SPXL -1\n",
      "SPXS 1746\n"
     ]
    }
   ],
   "metadata": {}
  }
 ],
 "metadata": {
  "orig_nbformat": 4,
  "language_info": {
   "name": "python",
   "version": "3.8.10",
   "mimetype": "text/x-python",
   "codemirror_mode": {
    "name": "ipython",
    "version": 3
   },
   "pygments_lexer": "ipython3",
   "nbconvert_exporter": "python",
   "file_extension": ".py"
  },
  "kernelspec": {
   "name": "python3",
   "display_name": "Python 3.8.10 64-bit ('tf_arm': conda)"
  },
  "interpreter": {
   "hash": "aad12466045a1575aa1be41a0534cd7508fda1531bcc5a3693dc9ed3be064607"
  }
 },
 "nbformat": 4,
 "nbformat_minor": 2
}