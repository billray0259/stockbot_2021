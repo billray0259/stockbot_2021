{
 "cells": [
  {
   "cell_type": "code",
   "execution_count": null,
   "source": [
    "import os\r\n",
    "import datetime as dt\r\n",
    "import json \r\n",
    "\r\n",
    "if \"src\" not in os.listdir():\r\n",
    "    os.chdir(\"../../../\")\r\n",
    "\r\n",
    "\r\n",
    "%load_ext autoreload\r\n",
    "%autoreload 2\r\n",
    "\r\n",
    "from src.lib.alpaca_paper import AlpacaTrader\r\n",
    "from src.lib.alpaca_historical import AlpacaData"
   ],
   "outputs": [],
   "metadata": {}
  },
  {
   "cell_type": "code",
   "execution_count": null,
   "source": [
    "KEYS_PATH = \"alpaca_config.json\" # Path to Alpaca Keys in user system\r\n",
    "alpaca = AlpacaTrader(KEYS_PATH, is_paper=True)\r\n",
    "alpaca_data = AlpacaData(KEYS_PATH)\r\n",
    "closed_orders = alpaca.get_closed_orders(days_look_back=1)\r\n",
    "open_orders = alpaca.get_oustanding_orders(days_look_back=1)"
   ],
   "outputs": [],
   "metadata": {}
  },
  {
   "cell_type": "code",
   "execution_count": null,
   "source": [
    "print(closed_orders)"
   ],
   "outputs": [],
   "metadata": {}
  },
  {
   "cell_type": "code",
   "execution_count": null,
   "source": [
    "print(open_orders)"
   ],
   "outputs": [],
   "metadata": {}
  },
  {
   "cell_type": "code",
   "execution_count": null,
   "source": [],
   "outputs": [],
   "metadata": {}
  }
 ],
 "metadata": {
  "orig_nbformat": 4,
  "language_info": {
   "name": "python",
   "version": "3.8.5",
   "mimetype": "text/x-python",
   "codemirror_mode": {
    "name": "ipython",
    "version": 3
   },
   "pygments_lexer": "ipython3",
   "nbconvert_exporter": "python",
   "file_extension": ".py"
  },
  "kernelspec": {
   "name": "python3",
   "display_name": "Python 3.8.5 64-bit"
  },
  "interpreter": {
   "hash": "df32ccc5ca0a834e46655e033e923466181170f9f055e035850f144ef7ac8ef0"
  }
 },
 "nbformat": 4,
 "nbformat_minor": 2
}