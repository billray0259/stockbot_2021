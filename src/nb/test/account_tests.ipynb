{
 "cells": [
  {
   "cell_type": "code",
   "execution_count": 1,
   "source": [
    "import os\r\n",
    "import datetime as dt\r\n",
    "import json \r\n",
    "\r\n",
    "if not \"lib\" in os.listdir():\r\n",
    "    os.chdir(\"../\")\r\n",
    "\r\n",
    "from lib.alpaca_paper import Alpaca_Trader"
   ],
   "outputs": [],
   "metadata": {}
  },
  {
   "cell_type": "code",
   "execution_count": 2,
   "source": [
    "KEYS_PATH = \"config.json\" # Path to Alpaca Keys in user system\r\n",
    "alpaca = hist = Alpaca_Trader(KEYS_PATH, is_paper=True)"
   ],
   "outputs": [],
   "metadata": {}
  },
  {
   "cell_type": "code",
   "execution_count": 3,
   "source": [
    "alpaca.get_holdings(raw=True)"
   ],
   "outputs": [
    {
     "output_type": "execute_result",
     "data": {
      "text/plain": [
       "({'cash': 100000.0}, 100000.0)"
      ]
     },
     "metadata": {},
     "execution_count": 3
    }
   ],
   "metadata": {}
  },
  {
   "cell_type": "code",
   "execution_count": 4,
   "source": [
    "holdings = {\"SPY\": 0.2}\r\n",
    "responses = alpaca.update_holdings(holdings, cancel_orders=False)\r\n",
    "print(responses)"
   ],
   "outputs": [
    {
     "output_type": "stream",
     "name": "stdout",
     "text": [
      "{'symbol': 'SPY', 'notional': '30000.0', 'side': 'buy', 'type': 'market', 'time_in_force': 'day'}\n",
      "[<Response [204]>, <Response [204]>, <Response [204]>, <Response [200]>]\n"
     ]
    }
   ],
   "metadata": {}
  },
  {
   "cell_type": "code",
   "execution_count": 5,
   "source": [
    "for response in responses:\r\n",
    "    print(response.content)"
   ],
   "outputs": [
    {
     "output_type": "stream",
     "name": "stdout",
     "text": [
      "b''\n",
      "b''\n",
      "b''\n",
      "b'{\"id\":\"eed404de-3e54-4433-95d7-4a8154e9e9c7\",\"client_order_id\":\"d8f048fb-2152-4e2f-ba33-6a159bc9964c\",\"created_at\":\"2021-09-14T21:51:55.21608Z\",\"updated_at\":\"2021-09-14T21:51:55.21608Z\",\"submitted_at\":\"2021-09-14T21:51:55.208421Z\",\"filled_at\":null,\"expired_at\":null,\"canceled_at\":null,\"failed_at\":null,\"replaced_at\":null,\"replaced_by\":null,\"replaces\":null,\"asset_id\":\"b28f4066-5c6d-479b-a2af-85dc1a8f16fb\",\"symbol\":\"SPY\",\"asset_class\":\"us_equity\",\"notional\":\"30000\",\"qty\":null,\"filled_qty\":\"0\",\"filled_avg_price\":null,\"order_class\":\"\",\"order_type\":\"market\",\"type\":\"market\",\"side\":\"buy\",\"time_in_force\":\"day\",\"limit_price\":null,\"stop_price\":null,\"status\":\"accepted\",\"extended_hours\":false,\"legs\":null,\"trail_percent\":null,\"trail_price\":null,\"hwm\":null}'\n"
     ]
    }
   ],
   "metadata": {}
  },
  {
   "cell_type": "code",
   "execution_count": 6,
   "source": [
    "orders = alpaca.get_orders(status=\"open\")"
   ],
   "outputs": [],
   "metadata": {}
  },
  {
   "cell_type": "code",
   "execution_count": 7,
   "source": [
    "orders.content"
   ],
   "outputs": [
    {
     "output_type": "execute_result",
     "data": {
      "text/plain": [
       "b'[{\"id\":\"eed404de-3e54-4433-95d7-4a8154e9e9c7\",\"client_order_id\":\"d8f048fb-2152-4e2f-ba33-6a159bc9964c\",\"created_at\":\"2021-09-14T21:51:55.21608Z\",\"updated_at\":\"2021-09-14T21:51:55.314517Z\",\"submitted_at\":\"2021-09-14T21:51:55.208421Z\",\"filled_at\":null,\"expired_at\":null,\"canceled_at\":null,\"failed_at\":null,\"replaced_at\":null,\"replaced_by\":null,\"replaces\":null,\"asset_id\":\"b28f4066-5c6d-479b-a2af-85dc1a8f16fb\",\"symbol\":\"SPY\",\"asset_class\":\"us_equity\",\"notional\":\"30000\",\"qty\":null,\"filled_qty\":\"0\",\"filled_avg_price\":null,\"order_class\":\"\",\"order_type\":\"market\",\"type\":\"market\",\"side\":\"buy\",\"time_in_force\":\"day\",\"limit_price\":null,\"stop_price\":null,\"status\":\"new\",\"extended_hours\":false,\"legs\":null,\"trail_percent\":null,\"trail_price\":null,\"hwm\":null}]'"
      ]
     },
     "metadata": {},
     "execution_count": 7
    }
   ],
   "metadata": {}
  },
  {
   "cell_type": "code",
   "execution_count": null,
   "source": [],
   "outputs": [],
   "metadata": {}
  }
 ],
 "metadata": {
  "orig_nbformat": 4,
  "language_info": {
   "name": "python",
   "version": "3.8.5",
   "mimetype": "text/x-python",
   "codemirror_mode": {
    "name": "ipython",
    "version": 3
   },
   "pygments_lexer": "ipython3",
   "nbconvert_exporter": "python",
   "file_extension": ".py"
  },
  "kernelspec": {
   "name": "python3",
   "display_name": "Python 3.8.5 64-bit"
  },
  "interpreter": {
   "hash": "df32ccc5ca0a834e46655e033e923466181170f9f055e035850f144ef7ac8ef0"
  }
 },
 "nbformat": 4,
 "nbformat_minor": 2
}