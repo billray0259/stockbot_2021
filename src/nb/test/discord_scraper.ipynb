{
 "cells": [
  {
   "cell_type": "code",
   "execution_count": 1,
   "source": [
    "import discord\n",
    "from discord.ext import commands\n",
    "import os\n",
    "import datetime as dt\n",
    "from discord.utils import get, to_json\n",
    "import pandas as pd\n",
    "import json\n",
    "\n",
    "if \"src\" not in os.listdir():\n",
    "    os.chdir(\"../../../\")\n",
    "print(os.listdir())"
   ],
   "outputs": [
    {
     "output_type": "stream",
     "name": "stdout",
     "text": [
      "['.DS_Store', 'requirements.txt', '.pytest_cache', 'dist', 'pyproject.toml', 'tests', '__pycache__', 'README.md', 'db_connection.txt', 'results', '.gitignore', 'configs', 'setup.cfg', '.ipynb_checkpoints', 'alpaca_config.json', '.git', 'data', 'src']\n"
     ]
    }
   ],
   "metadata": {}
  },
  {
   "cell_type": "code",
   "execution_count": 2,
   "source": [
    "try:\n",
    "    intents = discord.Intents.default()\n",
    "    intents.members = True\n",
    "    client = commands.Bot(command_prefix = '.', case_insensitive=True,  intents=intents)\n",
    "except:\n",
    "    client = commands.Bot(command_prefix = '.', case_insensitive=True)\n",
    "\n",
    "LIMIT=100\n",
    "OLDEST_FIRST=False\n",
    "GET_ALL_CHANNELS=False\n",
    "DESIRED_CHANNELS=[795072400403857469,713081521925521469,816786354905022516,858885212364079104,713082942527897650,839612987370504253,876561218234646588,876561254985134170,877925838065131530,679928623540600883,837703231916343327,679928248121032716,806194061114998804]\n",
    "\n",
    "BOT_TOKEN = 'NzU0MDAyMzEwNTM5MTE2NTQ0.X1uZXw.lfvGKH-SJw54LEC0m-xUPxjsyIM'\n",
    "CREDS = BOT_TOKEN\n",
    "UTOPIA = 679921845671035034\n",
    "\n",
    "parent_dir = os.getcwd()\n",
    "if not os.path.isdir(\"data/DISCORD\"):\n",
    "    os.mkdir(\"data/DISCORD\")"
   ],
   "outputs": [],
   "metadata": {}
  },
  {
   "cell_type": "code",
   "execution_count": 3,
   "source": [
    "\n",
    "\n",
    "\n",
    "\n",
    "primitive = (int, str, bool, dict)\n",
    "\n",
    "def is_primitive(obj):\n",
    "    return type(obj) in primitive\n",
    "\n",
    "def has_string_method(obj):\n",
    "    return type(obj).__str__ is not object.__str__\n",
    "\n",
    "def get_json(obj):\n",
    "    dict_data = []\n",
    "    if not has_string_method(obj):\n",
    "        for name in dir(obj):\n",
    "            if not name.startswith('_') and name != \"call\":\n",
    "                try:\n",
    "                    value = getattr(obj, name)\n",
    "                    if is_primitive(value):\n",
    "                        dict_data.append((name, value))\n",
    "                    elif type(value) is list:\n",
    "                        dict_data.append((name, [get_json(obj) for obj in value]))\n",
    "                    elif not callable(value):\n",
    "                        dict_data.append((name, get_json(value)))\n",
    "                except:\n",
    "                    print(\"failed on\", name)\n",
    "    else:\n",
    "        return str(obj)\n",
    "    return dict(dict_data)\n",
    "\n",
    "@client.event\n",
    "async def on_ready():\n",
    "    print(\"Bot is Ready, Scraping discord\")\n",
    "    server_name = \"UTOPIA\"\n",
    "    utopia = client.get_guild(UTOPIA)\n",
    "    channels = utopia.channels\n",
    "    if not GET_ALL_CHANNELS:\n",
    "        channels = [channel for channel in channels if channel.id in DESIRED_CHANNELS]\n",
    "    data = {}\n",
    "    for channel in channels:\n",
    "        if type(channel) == discord.channel.TextChannel:\n",
    "            try:\n",
    "                messages = await channel.history(limit=LIMIT, oldest_first=OLDEST_FIRST).flatten()\n",
    "                print(channel.id, channel.name, len(messages))\n",
    "                messages_data = []\n",
    "                for message in messages:\n",
    "                    message_data = get_json(message)\n",
    "                    messages_data.append(message_data)\n",
    "                data[channel.name] = messages_data\n",
    "            except:\n",
    "                print(\"Failed on\", channel.name)\n",
    "    with open('data/DISCORD/'+server_name+'.json', 'w') as fp:\n",
    "        json.dump(data, fp,  indent=4)\n",
    "    client.close()\n",
    "\n"
   ],
   "outputs": [],
   "metadata": {}
  },
  {
   "cell_type": "code",
   "execution_count": null,
   "source": [
    "client.run(CREDS)"
   ],
   "outputs": [],
   "metadata": {}
  }
 ],
 "metadata": {
  "orig_nbformat": 4,
  "language_info": {
   "name": "python",
   "version": "3.9.6",
   "mimetype": "text/x-python",
   "codemirror_mode": {
    "name": "ipython",
    "version": 3
   },
   "pygments_lexer": "ipython3",
   "nbconvert_exporter": "python",
   "file_extension": ".py"
  },
  "kernelspec": {
   "name": "python3",
   "display_name": "Python 3.9.6 64-bit"
  },
  "interpreter": {
   "hash": "aee8b7b246df8f9039afb4144a1f6fd8d2ca17a180786b69acc140d282b71a49"
  }
 },
 "nbformat": 4,
 "nbformat_minor": 2
}