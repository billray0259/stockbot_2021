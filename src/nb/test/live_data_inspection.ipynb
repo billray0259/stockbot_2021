{
 "cells": [
  {
   "cell_type": "code",
   "execution_count": 72,
   "source": [
    "import os\n",
    "\n",
    "if \"src\" not in os.listdir():\n",
    "    os.chdir(\"../../../\")\n",
    "\n",
    "import numpy as np\n",
    "from dateutil import parser\n",
    "import json\n",
    "import pickle\n",
    "from keras.models import load_model\n",
    "from datetime import timezone\n",
    "import pandas as pd\n",
    "\n",
    "from src.lib.stock_dataset import read_stock_dataset\n",
    "from src.lib.activations import negative_softmax"
   ],
   "outputs": [],
   "metadata": {}
  },
  {
   "cell_type": "code",
   "execution_count": 73,
   "source": [
    "path = \"results/1_lstm_ptrade/\"\n",
    "keys = \"alpaca_config.json\"\n",
    "\n",
    "model = load_model(\n",
    "    os.path.join(path, \"model.h5\"),\n",
    "    custom_objects={\n",
    "        \"negative_softmax\": negative_softmax\n",
    "    }\n",
    ")\n",
    "\n",
    "with open(os.path.join(path, \"config.json\"), \"r\") as f:\n",
    "    config = json.load(f)\n",
    "\n",
    "n_time_steps = config[\"n_time_steps\"]\n",
    "symbols = config[\"symbols\"]\n",
    "target_column = config[\"target_column\"]\n",
    "\n",
    "with open(os.path.join(path, \"scaler.pkl\"), \"rb\") as f:\n",
    "    scaler = pickle.load(f)\n",
    "\n",
    "ta_preprocess_candles = 296"
   ],
   "outputs": [],
   "metadata": {}
  },
  {
   "cell_type": "code",
   "execution_count": 74,
   "source": [
    "dataset = read_stock_dataset(symbols, target_column, n_time_steps, transform=True)"
   ],
   "outputs": [],
   "metadata": {}
  },
  {
   "cell_type": "code",
   "execution_count": 75,
   "source": [
    "dataset = dataset.apply_standard_scaler(scaler)"
   ],
   "outputs": [],
   "metadata": {}
  },
  {
   "cell_type": "code",
   "execution_count": 78,
   "source": [
    "path = \"results/1_lstm_ptrade/Xs\"\n",
    "files = os.listdir(path)\n",
    "for file_name in files[::-1]:\n",
    "    file_path = os.path.join(path, file_name)\n",
    "    X = np.load(file_path)\n",
    "    # X[0] = scaler.transform(X[0])\n",
    "    time = parser.parse(file_name[:-len(\".npy\")])\n",
    "    time = time.replace(second=0, microsecond=0)\n",
    "    i = dataset.X.index.get_loc(time)\n",
    "    df_chunk = dataset.X.iloc[i-n_time_steps: i]\n",
    "    X_hist = df_chunk.to_numpy()[np.newaxis, :, :]\n",
    "\n",
    "    # assert (X == X_hist).all()\n",
    "    print(X.shape, X_hist.shape)\n",
    "    m = 6\n",
    "    diff = np.abs(X_hist - X)\n",
    "    diff = diff[0, :, :].mean(0)\n",
    "    for symbol, value in zip(dataset.X.columns, diff):\n",
    "        print(symbol, value)\n",
    "    # print((X_hist[0, :, m] - X[0, :, m]).sum())\n",
    "    break"
   ],
   "outputs": [
    {
     "output_type": "stream",
     "name": "stdout",
     "text": [
      "(1, 64, 26) (1, 64, 26)\n",
      "SPY_volume 216473.35136359156\n",
      "SPY_trades 1781.6271198366207\n",
      "SPY_oc_ret 0.7304869431474138\n",
      "SPY_pdiff_open 0.7306368117909421\n",
      "SPY_pdiff_high 0.4521792960762197\n",
      "SPY_pdiff_low 0.33099236074348476\n",
      "SPY_pdiff_vwap 0.7523634530763113\n",
      "SPY_ma_50 0.4742175499668744\n",
      "SPY_ma_200 1.2380929776932839\n",
      "SPY_rsi 45.427305704758695\n",
      "SPY_macd 0.8545756295828085\n",
      "SPY_bbands_b 0.18871185246020178\n",
      "SPY_bbands_p 0.8176656018632554\n",
      "SPXS_volume 22762.110568428106\n",
      "SPXS_trades 56.75940344576772\n",
      "SPXS_oc_ret 0.5948513414613346\n",
      "SPXS_pdiff_open 0.5944947043309758\n",
      "SPXS_pdiff_high 0.4451214486937081\n",
      "SPXS_pdiff_low 0.4373596207496522\n",
      "SPXS_pdiff_vwap 0.5877960717680195\n",
      "SPXS_ma_50 0.31664502701791636\n",
      "SPXS_ma_200 0.7940813814425918\n",
      "SPXS_rsi 55.03419740945672\n",
      "SPXS_macd 0.277991477300929\n",
      "SPXS_bbands_b 0.3359206078857252\n",
      "SPXS_bbands_p 0.8753314897089739\n"
     ]
    }
   ],
   "metadata": {}
  }
 ],
 "metadata": {
  "orig_nbformat": 4,
  "language_info": {
   "name": "python",
   "version": "3.8.10",
   "mimetype": "text/x-python",
   "codemirror_mode": {
    "name": "ipython",
    "version": 3
   },
   "pygments_lexer": "ipython3",
   "nbconvert_exporter": "python",
   "file_extension": ".py"
  },
  "kernelspec": {
   "name": "python3",
   "display_name": "Python 3.8.10 64-bit ('tf_arm': conda)"
  },
  "interpreter": {
   "hash": "aad12466045a1575aa1be41a0534cd7508fda1531bcc5a3693dc9ed3be064607"
  }
 },
 "nbformat": 4,
 "nbformat_minor": 2
}