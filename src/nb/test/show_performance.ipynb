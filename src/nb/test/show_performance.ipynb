{
 "cells": [
  {
   "cell_type": "code",
   "execution_count": 1,
   "source": [
    "import os\n",
    "\n",
    "if \"src\" not in os.listdir():\n",
    "    os.chdir(\"../../../\")\n",
    "\n",
    "import json\n",
    "import math\n",
    "\n",
    "import numpy as np\n",
    "from datetime import datetime, timedelta, timezone\n",
    "import matplotlib.pyplot as plt\n",
    "from dateutil import parser\n",
    "import pandas as pd\n",
    "# from pytz import timezone\n",
    "import pickle\n",
    "import plotly.graph_objects as go\n",
    "\n",
    "import pandas_market_calendars as mcal\n",
    "from keras.models import load_model\n",
    "\n",
    "from src.lib.alpaca_historical import AlpacaData\n",
    "from src.lib.alpaca_paper import AlpacaTrader\n",
    "from src.lib.activations import negative_softmax\n",
    "from src.lib.price_history import transform_price_history, PriceHistory\n",
    "from src.lib.stock_dataset import read_stock_dataset\n",
    "from src.lib.util import makedir_to\n",
    "%load_ext autoreload\n",
    "%autoreload 2"
   ],
   "outputs": [],
   "metadata": {}
  },
  {
   "cell_type": "code",
   "execution_count": 2,
   "source": [
    "path = \"results/4_lstm_long/\"\n",
    "keys = \"alpaca_config.json\""
   ],
   "outputs": [],
   "metadata": {}
  },
  {
   "cell_type": "code",
   "execution_count": 3,
   "source": [
    "api_data = AlpacaData(keys)\n",
    "\n",
    "model = load_model(\n",
    "    os.path.join(path, \"model.h5\"),\n",
    "    custom_objects={\n",
    "        \"negative_softmax\": negative_softmax\n",
    "    }\n",
    ")\n",
    "\n",
    "with open(os.path.join(path, \"config.json\"), \"r\") as f:\n",
    "    config = json.load(f)\n",
    "\n",
    "n_time_steps = config[\"n_time_steps\"]\n",
    "symbols = config[\"symbols\"]\n",
    "target_column = config[\"target_column\"]\n",
    "\n",
    "with open(os.path.join(path, \"scaler.pkl\"), \"rb\") as f:\n",
    "    scaler = pickle.load(f)\n",
    "\n",
    "# for symbol in symbols:\n",
    "#     api_data.update_saved_data(symbol)\n",
    "\n",
    "dataset = read_stock_dataset(symbols, target_column, n_time_steps)\n",
    "dataset = dataset.apply_standard_scaler(scaler)\n",
    "\n",
    "with open(os.path.join(path, \"trade_log.txt\"), \"r\") as f:\n",
    "    trade_log = f.readlines()\n",
    "\n",
    "equity_history = np.array([\n",
    "    float(line.split(\",\")[-1].strip())\n",
    "    for line in trade_log\n",
    "])\n",
    "equity_history /= equity_history[0]\n",
    "\n",
    "log_index = np.array([\n",
    "    parser.parse(line.split(\",\")[0].strip()).replace(second=0, microsecond=0)\n",
    "    for line in trade_log\n",
    "])\n",
    "\n"
   ],
   "outputs": [],
   "metadata": {}
  },
  {
   "cell_type": "code",
   "execution_count": 4,
   "source": [
    "\n",
    "\n",
    "equity = pd.Series(equity_history, index=log_index, name=\"equity\")\n",
    "time_index = [\n",
    "    time\n",
    "    for time in equity.index\n",
    "    if time in dataset.X.index\n",
    "]\n",
    "equity = equity[time_index]\n",
    "\n",
    "live_preds = np.zeros((len(trade_log), len(symbols)))\n",
    "for i, line in enumerate(trade_log):\n",
    "    parts = line.split(\",\")\n",
    "    string = \",\".join([parts[1], parts[2]]).replace(\"'\", \"\\\"\")\n",
    "    holding_dict = json.loads(string)\n",
    "    for j, symbol in enumerate(symbols):\n",
    "        live_preds[i, j] = holding_dict[symbol]\n",
    "live_preds = live_preds[range(len(equity))]\n",
    "\n",
    "start_ind = dataset.X.index.get_loc(equity.index[0])\n",
    "end_ind = dataset.X.index.get_loc(equity.index[-1])+1\n",
    "int_index = [\n",
    "    v\n",
    "    for k, v in enumerate(range(start_ind, end_ind))\n",
    "    if equity.index[k] in dataset.X.index\n",
    "]\n",
    "\n",
    "X, y = dataset.get_batch(len(int_index), int_index, shuffle=False, replace=False)"
   ],
   "outputs": [],
   "metadata": {}
  },
  {
   "cell_type": "code",
   "execution_count": 5,
   "source": [
    "# change_diff = np.diff(equity)/equity[:-1] - np.diff(rets_live_preds)/rets_live_preds[:-1]\n",
    "# plt.plot(change_diff)\n",
    "# plt.show()\n",
    "# print(change_diff.mean())\n",
    "# print(change_diff.std())\n",
    "# print(abs(change_diff.std()/change_diff.mean()))"
   ],
   "outputs": [],
   "metadata": {}
  },
  {
   "cell_type": "code",
   "execution_count": 6,
   "source": [
    "# adj_rets = np.exp(((np.log(live_preds*y + 1)).sum(axis=-1)[:-1] + np.log(1+change_diff)).cumsum())\n",
    "# adj_rets = ((live_preds*y + 1).prod(-1) * (1 + change_diff[:len(change_diff)].mean())).cumprod()"
   ],
   "outputs": [],
   "metadata": {}
  },
  {
   "cell_type": "code",
   "execution_count": 7,
   "source": [
    "def read_quotes(symbol, time_index, delay=timedelta(seconds=4)):\n",
    "    df = pd.read_csv(f\"data/{symbol}/{symbol}_quotes.csv\", index_col=\"time\")\n",
    "    df.index = pd.to_datetime(df.index) - delay\n",
    "    time_series = pd.Series(df.index.floor(\"1T\")).drop_duplicates()\n",
    "    minute_quotes = df.iloc[time_series.index]\n",
    "    minute_quotes.index = minute_quotes.index.floor(\"1T\")\n",
    "    quotes = minute_quotes.reindex(time_index)\n",
    "    return quotes\n"
   ],
   "outputs": [],
   "metadata": {}
  },
  {
   "cell_type": "code",
   "execution_count": 8,
   "source": [
    "quotes = {\n",
    "    symbol: read_quotes(symbol, time_index, delay=timedelta(seconds=4))\n",
    "    for symbol in symbols\n",
    "}"
   ],
   "outputs": [],
   "metadata": {}
  },
  {
   "cell_type": "code",
   "execution_count": 9,
   "source": [
    "quote_y  = np.zeros_like(y[:-1])\n",
    "for i in range(len(symbols)):\n",
    "    bids = quotes[symbols[i]][\"bid_price\"].to_numpy()[1:]\n",
    "    asks = quotes[symbols[i]][\"ask_price\"].to_numpy()[:-1]\n",
    "    quote_y[:, i] = ((bids/asks-1) + y[:-1][:, i])/2"
   ],
   "outputs": [],
   "metadata": {}
  },
  {
   "cell_type": "code",
   "execution_count": 10,
   "source": [
    "preds = model.predict(X)\n",
    "rets            = np.exp((np.log(preds     *y + 1)).sum(axis=-1).cumsum())\n",
    "rets_live_preds = np.exp((np.log(live_preds*y + 1)).sum(axis=-1).cumsum())\n",
    "ba_rets = np.exp((np.log(live_preds[:-1]*quote_y + 1)).sum(axis=-1).cumsum())"
   ],
   "outputs": [
    {
     "output_type": "stream",
     "name": "stderr",
     "text": [
      "2021-09-23 15:45:01.971558: I tensorflow/compiler/mlir/mlir_graph_optimization_pass.cc:116] None of the MLIR optimization passes are enabled (registered 2)\n",
      "2021-09-23 15:45:01.973431: W tensorflow/core/platform/profile_utils/cpu_utils.cc:126] Failed to get CPU frequency: 0 Hz\n"
     ]
    }
   ],
   "metadata": {}
  },
  {
   "cell_type": "code",
   "execution_count": 11,
   "source": [
    "holdings = {\n",
    "    symbol: 0\n",
    "    for symbol in symbols\n",
    "}\n",
    "cash = 100000\n",
    "sim_equity = [cash]\n",
    "for i, pred in enumerate(live_preds):\n",
    "\n",
    "    this_equity = cash\n",
    "    for symbol in symbols:\n",
    "        bid = quotes[symbol].iloc[i][\"bid_price\"]\n",
    "        ask = quotes[symbol].iloc[i][\"ask_price\"]\n",
    "        avg = (bid + ask)/2\n",
    "        this_equity += avg * holdings[symbol]\n",
    "    sim_equity.append(this_equity)\n",
    "\n",
    "    for j, symbol in enumerate(symbols):\n",
    "        bid = quotes[symbol].iloc[i][\"bid_price\"]\n",
    "        ask = quotes[symbol].iloc[i][\"ask_price\"]\n",
    "        avg = (bid + ask)/2\n",
    "\n",
    "        p_hold = holdings[symbol] * avg / sim_equity[-1]\n",
    "\n",
    "        p_hold_delta = pred[j] - p_hold\n",
    "\n",
    "        share_delta = math.floor(p_hold_delta * sim_equity[-1] / avg)\n",
    "\n",
    "        trade_price = ask if share_delta > 0 else bid\n",
    "\n",
    "        trade_cost = share_delta * trade_price\n",
    "\n",
    "        cash -= trade_cost\n",
    "        holdings[symbol] += share_delta\n",
    "    \n",
    "sim_equity = np.array(sim_equity)[1:]\n",
    "sim_equity /= sim_equity[0]\n",
    "sim_equity.shape\n"
   ],
   "outputs": [
    {
     "output_type": "execute_result",
     "data": {
      "text/plain": [
       "(373,)"
      ]
     },
     "metadata": {},
     "execution_count": 11
    }
   ],
   "metadata": {}
  },
  {
   "cell_type": "code",
   "execution_count": 12,
   "source": [
    "performance = pd.DataFrame({\n",
    "    \"equity\": equity[:-1],\n",
    "    \"rets\": rets[:-1],\n",
    "    \n",
    "    \"backtest_live_preds\": rets_live_preds[:-1],\n",
    "    \"sim_equity\": sim_equity[:-1]\n",
    "}, index=time_index[:-1])\n",
    "performance.plot()\n",
    "plt.show()"
   ],
   "outputs": [
    {
     "output_type": "display_data",
     "data": {
      "image/png": "[encoded data removed]",
      "text/plain": [
       "<Figure size 432x288 with 1 Axes>"
      ]
     },
     "metadata": {
      "needs_background": "light"
     }
    }
   ],
   "metadata": {}
  }
 ],
 "metadata": {
  "orig_nbformat": 4,
  "language_info": {
   "name": "python",
   "version": "3.8.10",
   "mimetype": "text/x-python",
   "codemirror_mode": {
    "name": "ipython",
    "version": 3
   },
   "pygments_lexer": "ipython3",
   "nbconvert_exporter": "python",
   "file_extension": ".py"
  },
  "kernelspec": {
   "name": "python3",
   "display_name": "Python 3.8.10 64-bit ('tf_arm': conda)"
  },
  "interpreter": {
   "hash": "aad12466045a1575aa1be41a0534cd7508fda1531bcc5a3693dc9ed3be064607"
  }
 },
 "nbformat": 4,
 "nbformat_minor": 2
}